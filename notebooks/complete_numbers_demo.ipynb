{
  "nbformat": 4,
  "nbformat_minor": 0,
  "metadata": {
    "colab": {
      "provenance": []
    },
    "kernelspec": {
      "name": "python3",
      "display_name": "Python 3"
    },
    "language_info": {
      "name": "python"
    }
  },
  "cells": [
    {
      "cell_type": "markdown",
      "source": [
        "# Complete Numbers ($\\mathbb{U}$) Implementation\n",
        "\n",
        "This notebook demonstrates the practical implementation of Complete Numbers, a new mathematical structure introduced in the paper \"The Set of Vanished Numbers $\\mathbb{U}$\" (Spencer, 2024). The structure is designed to track information that is lost during multiplication by zero while maintaining computational tractability. Beginning with a foundational singleton set containing a pure zero element, we develop a rigorous framework of mappings that preserve this otherwise lost information.\n",
        "\n",
        "> **Note**: This is a companion implementation to a paper under consideration. The complete theoretical treatment, including proofs and mathematical construction, can be found in the [GitHub repository](https://github.com/YOUR_USERNAME/complete-numbers/paper/vanished_numbers.pdf).\n",
        "\n",
        "## Mathematical Background\n",
        "\n",
        "The multiplicative property of zero stands as one of the most fundamental yet peculiar features of computational systems. When a number is multiplied by zero, the result is unambiguous - the product is zero. However, this apparently simple operation masks a subtle but significant loss of information. In the expression $a \\times 0 = 0$, all information about the original number $a$ vanishes in the result.\n",
        "\n",
        "Consider the sequence:\n",
        "\\begin{align*}\n",
        "    5 \\times 0 &= 0 \\\\\n",
        "    3 \\times 0 &= 0 \\\\\n",
        "    \\therefore 5 \\times 0 &= 3 \\times 0\n",
        "\\end{align*}\n",
        "\n",
        "While logically consistent, this sequence demonstrates how distinct numerical values become indistinguishable after multiplication by zero. This property can create significant challenges in computational systems and data structure design. The complete number system provides a framework that preserves this information while maintaining consistency with standard arithmetic through explicit mappings."
      ],
      "metadata": {
        "id": "OYmn9wDELoet"
      }
    },
    {
      "cell_type": "markdown",
      "source": [
        "## Implementation\n",
        "\n",
        "The implementation patterns of Complete Numbers parallel those of complex numbers in Python. Consider how complex numbers handle zero multiplication:\n",
        "\n",
        "```python\n",
        "# Complex Number Patterns\n",
        "z = 3 + 4j               # Create complex number\n",
        "z = complex(3, 4)        # Alternative construction\n",
        "z.real * 0  -> 0.0       # Real component times zero\n",
        "z.imag * 0  -> 0.0       # Imaginary component times zero\n",
        "z * 0       -> 0j        # Whole complex number times zero\n",
        "```\n",
        "\n",
        "Complete Numbers follow similar patterns but preserve the vanished structure:\n",
        "\n",
        "```python\n",
        "# Complete Number Patterns\n",
        "cu = 3 + 4j               # Create complete number\n",
        "cu = CompleteNumber(3, 4) # Alternative construction\n",
        "cu.real * 0  -> 3u        # Real component times zero\n",
        "cu.imag * 0  -> 4uj       # Imaginary component times zero\n",
        "cu * 0      -> 3u + 4uj   # Whole complete number times zero\n",
        "```\n",
        "\n",
        "Now we implement the core Complete Numbers classes that realize this behavior:"
      ],
      "metadata": {
        "id": "G2BssgJXMiqN"
      }
    },
    {
      "cell_type": "code",
      "source": [
        "from typing import Union, Tuple\n",
        "import numbers\n",
        "import cmath\n",
        "\n",
        "class CompleteComponent:\n",
        "    \"\"\"Drop-in replacement for float that maintains absorption into U\"\"\"\n",
        "    def __init__(self, value, component_type):\n",
        "        self._value = float(value)\n",
        "        self._type = component_type    # 'real' or 'imag'\n",
        "\n",
        "    def __mul__(self, other):\n",
        "        if other == 0:\n",
        "            if self._type == 'real':\n",
        "                # Real component times zero -> just the absorbed value\n",
        "                return f\"{self._value}u\"\n",
        "            else:  # imaginary\n",
        "                # Imaginary component times zero -> just the absorbed value\n",
        "                return f\"{self._value}uj\"\n",
        "        else:\n",
        "            # Non-zero multiplication - return just the float value\n",
        "            return self._value * other\n",
        "\n",
        "    def __truediv__(self, other):\n",
        "        \"\"\"Component division behaves like regular float division\"\"\"\n",
        "        if other == 0:\n",
        "            raise ZeroDivisionError(\"float division by zero\")\n",
        "        return self._value / other\n",
        "\n",
        "    def __rtruediv__(self, other):\n",
        "        if self._value == 0:\n",
        "            raise ZeroDivisionError(\"float division by zero\")\n",
        "        return other / self._value\n",
        "\n",
        "    def __rmul__(self, other):\n",
        "        return self.__mul__(other)\n",
        "\n",
        "    def __repr__(self):\n",
        "        return str(self._value)\n",
        "\n",
        "    def __float__(self):\n",
        "        return self._value\n",
        "\n",
        "class CompleteNumber:\n",
        "    def __init__(self, real, imag, u_real=0, u_imag=0):\n",
        "        self._real = float(real)\n",
        "        self._imag = float(imag)\n",
        "        self._u_real = float(u_real)\n",
        "        self._u_imag = float(u_imag)\n",
        "\n",
        "    @property\n",
        "    def real(self):\n",
        "        return CompleteComponent(self._real, 'real')\n",
        "\n",
        "    @property\n",
        "    def imag(self):\n",
        "        return CompleteComponent(self._imag, 'imag')\n",
        "\n",
        "    def __mul__(self, other):\n",
        "        if isinstance(other, (int, float)):\n",
        "            if other == 0:\n",
        "                # Whole number times zero -> both components go to U\n",
        "                return CompleteNumber(0, 0, self._real, self._imag)\n",
        "            else:\n",
        "                # Regular multiplication\n",
        "                return CompleteNumber(self._real * other, self._imag * other)\n",
        "        return NotImplemented\n",
        "\n",
        "    def __truediv__(self, other):\n",
        "        \"\"\"Complete number division\"\"\"\n",
        "        if isinstance(other, (int, float)):\n",
        "            if other == 0:\n",
        "                # If there are any non-absorbed components, division by zero is undefined\n",
        "                if self._real != 0 or self._imag != 0:\n",
        "                    raise ZeroDivisionError(\"division by zero\")\n",
        "                # Only absorbed components present\n",
        "                return CompleteNumber(\n",
        "                    self._u_real,\n",
        "                    self._u_imag\n",
        "                )\n",
        "            else:\n",
        "                # Regular division\n",
        "                return CompleteNumber(\n",
        "                    self._real / other,\n",
        "                    self._imag / other,\n",
        "                    self._u_real / other,\n",
        "                    self._u_imag / other\n",
        "                )\n",
        "        return NotImplemented\n",
        "\n",
        "    def __rmul__(self, other):\n",
        "        return self.__mul__(other)\n",
        "\n",
        "    def __repr__(self):\n",
        "        parts = []\n",
        "        if self._real != 0 or (self._imag == 0 and self._u_real == 0 and self._u_imag == 0):\n",
        "            parts.append(str(self._real))\n",
        "        if self._imag != 0:\n",
        "            parts.append(f\"{self._imag}j\")\n",
        "        if self._u_real != 0:\n",
        "            parts.append(f\"{self._u_real}u\")\n",
        "        if self._u_imag != 0:\n",
        "            parts.append(f\"{self._u_imag}uj\")\n",
        "\n",
        "        return \" + \".join(parts).replace(\" + -\", \" - \")"
      ],
      "metadata": {
        "id": "UsKxr_-nMlZB"
      },
      "execution_count": 2,
      "outputs": []
    },
    {
      "cell_type": "markdown",
      "source": [
        "## Basic Operations\n",
        "\n",
        "Let's explore how Complete Numbers behave under basic operations:"
      ],
      "metadata": {
        "id": "wTD8aDplMtOB"
      }
    },
    {
      "cell_type": "code",
      "source": [
        "# Create a complete number\n",
        "print(\"Creating a complete number (3 + 4j):\")\n",
        "cn = CompleteNumber(3, 4)\n",
        "print(f\"cn = {cn}\\n\")\n",
        "\n",
        "# Demonstrate multiplication by zero\n",
        "print(\"Multiplication by zero (preserves structure):\")\n",
        "cn_zero = cn * 0\n",
        "print(f\"cn * 0 = {cn_zero}\\n\")\n",
        "\n",
        "# Recover original values\n",
        "print(\"Recovering original values:\")\n",
        "cn_recovered = cn_zero / 0\n",
        "print(f\"cn_zero / 0 = {cn_recovered}\")"
      ],
      "metadata": {
        "colab": {
          "base_uri": "https://localhost:8080/"
        },
        "id": "r-1_ad5cMxxB",
        "outputId": "1a4bdf74-82a6-4451-c058-87f18c17e1c3"
      },
      "execution_count": 3,
      "outputs": [
        {
          "output_type": "stream",
          "name": "stdout",
          "text": [
            "Creating a complete number (3 + 4j):\n",
            "cn = 3.0 + 4.0j\n",
            "\n",
            "Multiplication by zero (preserves structure):\n",
            "cn * 0 = 3.0u + 4.0uj\n",
            "\n",
            "Recovering original values:\n",
            "cn_zero / 0 = 3.0 + 4.0j\n"
          ]
        }
      ]
    },
    {
      "cell_type": "markdown",
      "source": [
        "## Vanishing Summation Structure\n",
        "\n",
        "Now let's demonstrate how Complete Numbers preserve information through the vanishing of the summation structure:"
      ],
      "metadata": {
        "id": "NACVz21HM0xh"
      }
    },
    {
      "cell_type": "code",
      "source": [
        "def demonstrate_vanishing_summation():\n",
        "    \"\"\"Demonstrates how multiplication by zero represents the vanishing of the summation\n",
        "    structure itself, not the removal of quantities.\"\"\"\n",
        "\n",
        "    # Create complete numbers for our quantities\n",
        "    box_quantity = CompleteNumber(5, 0)    # 5 as a quantity\n",
        "    crate_quantity = CompleteNumber(3, 0)  # 3 as a quantity\n",
        "    print(f\"Initial quantities:\")\n",
        "    print(f\"Box:   {box_quantity}\")\n",
        "    print(f\"Crate: {crate_quantity}\\n\")\n",
        "\n",
        "    # Demonstrate multiplication by zero (vanishing of summation structure)\n",
        "    box_vanished = box_quantity * 0\n",
        "    crate_vanished = crate_quantity * 0\n",
        "    print(f\"After multiplication by zero (vanishing of summation structure):\")\n",
        "    print(f\"Box:   {box_vanished}\")    # Should be 5u - preserving the vanished structure\n",
        "    print(f\"Crate: {crate_vanished}\\n\") # Should be 3u - preserving the vanished structure\n",
        "\n",
        "    # Add the vanished quantities (combining our structural information)\n",
        "    total_vanished = CompleteNumber(\n",
        "        0, 0,\n",
        "        box_vanished._u_real + crate_vanished._u_real,\n",
        "        box_vanished._u_imag + crate_vanished._u_imag\n",
        "    )\n",
        "    print(f\"Combined vanished structures:\")\n",
        "    print(f\"Total: {total_vanished}\\n\")\n",
        "\n",
        "    # Recover the original total\n",
        "    total = total_vanished / 0\n",
        "    print(f\"Recovered quantity from vanished structure:\")\n",
        "    print(f\"Total: {total}\")\n",
        "\n",
        "    return box_vanished, crate_vanished, total_vanished\n",
        "\n",
        "demonstrate_vanishing_summation()"
      ],
      "metadata": {
        "colab": {
          "base_uri": "https://localhost:8080/"
        },
        "id": "EdGvNCcOM6wR",
        "outputId": "f872169c-0ee8-4199-d627-87f430e45198"
      },
      "execution_count": 4,
      "outputs": [
        {
          "output_type": "stream",
          "name": "stdout",
          "text": [
            "Initial quantities:\n",
            "Box:   5.0\n",
            "Crate: 3.0\n",
            "\n",
            "After multiplication by zero (vanishing of summation structure):\n",
            "Box:   5.0u\n",
            "Crate: 3.0u\n",
            "\n",
            "Combined vanished structures:\n",
            "Total: 8.0u\n",
            "\n",
            "Recovered quantity from vanished structure:\n",
            "Total: 8.0\n"
          ]
        },
        {
          "output_type": "execute_result",
          "data": {
            "text/plain": [
              "(5.0u, 3.0u, 8.0u)"
            ]
          },
          "metadata": {},
          "execution_count": 4
        }
      ]
    },
    {
      "cell_type": "markdown",
      "source": [
        "## Component-wise Operations\n",
        "\n",
        "Complete Numbers allow us to track the vanished real and imaginary components separately:"
      ],
      "metadata": {
        "id": "sbEFyNm-M9yp"
      }
    },
    {
      "cell_type": "code",
      "source": [
        "# Create a complete number\n",
        "cn = CompleteNumber(3, 4)\n",
        "print(f\"Complete number: {cn}\\n\")\n",
        "\n",
        "# Real component operations\n",
        "print(\"Real component:\")\n",
        "print(f\"cn.real = {cn.real}\")\n",
        "print(f\"cn.real * 0 = {cn.real * 0}\\n\")\n",
        "\n",
        "# Imaginary component operations\n",
        "print(\"Imaginary component:\")\n",
        "print(f\"cn.imag = {cn.imag}\")\n",
        "print(f\"cn.imag * 0 = {cn.imag * 0}\")"
      ],
      "metadata": {
        "colab": {
          "base_uri": "https://localhost:8080/"
        },
        "id": "Bo1KjV09NAQR",
        "outputId": "3c121b5f-bb2a-4305-9e6a-54c8d155ec5a"
      },
      "execution_count": 5,
      "outputs": [
        {
          "output_type": "stream",
          "name": "stdout",
          "text": [
            "Complete number: 3.0 + 4.0j\n",
            "\n",
            "Real component:\n",
            "cn.real = 3.0\n",
            "cn.real * 0 = 3.0u\n",
            "\n",
            "Imaginary component:\n",
            "cn.imag = 4.0\n",
            "cn.imag * 0 = 4.0uj\n"
          ]
        }
      ]
    },
    {
      "cell_type": "markdown",
      "source": [
        "## Explore Further\n",
        "\n",
        "Try experimenting with your own Complete Number operations. Here are some suggestions:\n",
        "\n",
        "1. Create Complete Numbers with different real and imaginary components\n",
        "2. Perform operations and observe how structure is preserved\n",
        "3. Try combining multiple vanished structures\n",
        "4. Experiment with recovery operations"
      ],
      "metadata": {
        "id": "9HlSowuHND1h"
      }
    }
  ]
}